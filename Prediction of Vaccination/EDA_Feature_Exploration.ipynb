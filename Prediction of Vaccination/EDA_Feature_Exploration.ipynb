{
 "cells": [
  {
   "cell_type": "code",
   "execution_count": 2,
   "metadata": {},
   "outputs": [],
   "source": [
    "import sklearn\n",
    "import pandas as pd\n",
    "import numpy as np\n",
    "import matplotlib.pyplot as plt\n",
    "import os\n"
   ]
  },
  {
   "cell_type": "code",
   "execution_count": 4,
   "metadata": {},
   "outputs": [
    {
     "name": "stdout",
     "output_type": "stream",
     "text": [
      "submission_format.csv\n",
      "test_set_features.csv\n",
      "training_set_features.csv\n",
      "training_set_labels.csv\n"
     ]
    }
   ],
   "source": [
    "!ls ./Data_Test_Train_Formats/\n"
   ]
  },
  {
   "cell_type": "code",
   "execution_count": 9,
   "metadata": {},
   "outputs": [],
   "source": [
    "train_data = pd.read_csv('./Data_Test_Train_Formats/training_set_features.csv')\n",
    "train_labels = pd.read_csv('./Data_Test_Train_Formats/training_set_labels.csv')"
   ]
  },
  {
   "cell_type": "code",
   "execution_count": 12,
   "metadata": {},
   "outputs": [
    {
     "data": {
      "text/html": [
       "<div>\n",
       "<style scoped>\n",
       "    .dataframe tbody tr th:only-of-type {\n",
       "        vertical-align: middle;\n",
       "    }\n",
       "\n",
       "    .dataframe tbody tr th {\n",
       "        vertical-align: top;\n",
       "    }\n",
       "\n",
       "    .dataframe thead th {\n",
       "        text-align: right;\n",
       "    }\n",
       "</style>\n",
       "<table border=\"1\" class=\"dataframe\">\n",
       "  <thead>\n",
       "    <tr style=\"text-align: right;\">\n",
       "      <th></th>\n",
       "      <th>respondent_id</th>\n",
       "      <th>h1n1_vaccine</th>\n",
       "      <th>seasonal_vaccine</th>\n",
       "    </tr>\n",
       "  </thead>\n",
       "  <tbody>\n",
       "    <tr>\n",
       "      <td>0</td>\n",
       "      <td>0</td>\n",
       "      <td>0</td>\n",
       "      <td>0</td>\n",
       "    </tr>\n",
       "    <tr>\n",
       "      <td>1</td>\n",
       "      <td>1</td>\n",
       "      <td>0</td>\n",
       "      <td>1</td>\n",
       "    </tr>\n",
       "    <tr>\n",
       "      <td>2</td>\n",
       "      <td>2</td>\n",
       "      <td>0</td>\n",
       "      <td>0</td>\n",
       "    </tr>\n",
       "    <tr>\n",
       "      <td>3</td>\n",
       "      <td>3</td>\n",
       "      <td>0</td>\n",
       "      <td>1</td>\n",
       "    </tr>\n",
       "    <tr>\n",
       "      <td>4</td>\n",
       "      <td>4</td>\n",
       "      <td>0</td>\n",
       "      <td>0</td>\n",
       "    </tr>\n",
       "  </tbody>\n",
       "</table>\n",
       "</div>"
      ],
      "text/plain": [
       "   respondent_id  h1n1_vaccine  seasonal_vaccine\n",
       "0              0             0                 0\n",
       "1              1             0                 1\n",
       "2              2             0                 0\n",
       "3              3             0                 1\n",
       "4              4             0                 0"
      ]
     },
     "execution_count": 12,
     "metadata": {},
     "output_type": "execute_result"
    }
   ],
   "source": [
    "train_labels.head()"
   ]
  },
  {
   "cell_type": "code",
   "execution_count": 29,
   "metadata": {},
   "outputs": [
    {
     "data": {
      "text/plain": [
       "Index(['respondent_id', 'h1n1_vaccine', 'seasonal_vaccine', 'h1n1_concern',\n",
       "       'h1n1_knowledge', 'behavioral_antiviral_meds', 'behavioral_avoidance',\n",
       "       'behavioral_face_mask', 'behavioral_wash_hands',\n",
       "       'behavioral_large_gatherings', 'behavioral_outside_home',\n",
       "       'behavioral_touch_face', 'doctor_recc_h1n1', 'doctor_recc_seasonal',\n",
       "       'chronic_med_condition', 'child_under_6_months', 'health_worker',\n",
       "       'health_insurance', 'opinion_h1n1_vacc_effective', 'opinion_h1n1_risk',\n",
       "       'opinion_h1n1_sick_from_vacc', 'opinion_seas_vacc_effective',\n",
       "       'opinion_seas_risk', 'opinion_seas_sick_from_vacc', 'age_group',\n",
       "       'education', 'race', 'sex', 'income_poverty', 'marital_status',\n",
       "       'rent_or_own', 'employment_status', 'hhs_geo_region', 'census_msa',\n",
       "       'household_adults', 'household_children', 'employment_industry',\n",
       "       'employment_occupation'],\n",
       "      dtype='object')"
      ]
     },
     "execution_count": 29,
     "metadata": {},
     "output_type": "execute_result"
    }
   ],
   "source": [
    "df = train_labels.merge(train_data, on='respondent_id')\n",
    "df.columns\n"
   ]
  },
  {
   "cell_type": "code",
   "execution_count": 25,
   "metadata": {},
   "outputs": [
    {
     "data": {
      "text/plain": [
       "employment_occupation    13470\n",
       "employment_industry      13330\n",
       "health_insurance         12274\n",
       "income_poverty            4423\n",
       "doctor_recc_h1n1          2160\n",
       "doctor_recc_seasonal      2160\n",
       "rent_or_own               2042\n",
       "employment_status         1463\n",
       "marital_status            1408\n",
       "education                 1407\n",
       "dtype: int64"
      ]
     },
     "execution_count": 25,
     "metadata": {},
     "output_type": "execute_result"
    }
   ],
   "source": [
    "df.isna().sum().sort_values(ascending=False)[:10]"
   ]
  },
  {
   "cell_type": "markdown",
   "metadata": {},
   "source": [
    "Several fields seem to be missing quite a few (>10% of values...) so some sort of imputation strategy may come in handy, especially since domain suspicion of knowledge is that health insurance affects vaccination probability.\n",
    "\n"
   ]
  },
  {
   "cell_type": "code",
   "execution_count": 27,
   "metadata": {},
   "outputs": [
    {
     "data": {
      "text/plain": [
       "1.0    12697\n",
       "0.0     1736\n",
       "Name: health_insurance, dtype: int64"
      ]
     },
     "execution_count": 27,
     "metadata": {},
     "output_type": "execute_result"
    }
   ],
   "source": [
    "df['health_insurance'].value_counts() "
   ]
  },
  {
   "cell_type": "markdown",
   "metadata": {},
   "source": [
    "On the other hand, it might be safe to assume NaN's for insurance are 0s instead. \n",
    "(assuming it's plausible that 50% of people didn't have insurance?) \n",
    "- NOT REASONABLE ASSUMPTION! Below indicates <10% uninsured rate nationally. \n",
    "- Maybe need to fill with a random variable that has 90% chance of being a 1\n",
    "\n",
    "https://www.cbpp.org/research/poverty-and-inequality/uninsured-rate-rose-in-2019-income-and-poverty-data-overtaken-by\n",
    "\n",
    "Let's look at the association with vaccinations from different features. This is a bit strange since the targets are labels"
   ]
  },
  {
   "cell_type": "code",
   "execution_count": 43,
   "metadata": {},
   "outputs": [
    {
     "name": "stdout",
     "output_type": "stream",
     "text": [
      "h1n1_vaccine                   1.000000\n",
      "seasonal_vaccine               0.377143\n",
      "h1n1_concern                   0.121929\n",
      "h1n1_knowledge                 0.117951\n",
      "opinion_h1n1_vacc_effective    0.269347\n",
      "opinion_h1n1_risk              0.323265\n",
      "opinion_h1n1_sick_from_vacc    0.075091\n",
      "opinion_seas_vacc_effective    0.179272\n",
      "opinion_seas_risk              0.258571\n",
      "opinion_seas_sick_from_vacc    0.008360\n",
      "Name: h1n1_vaccine, dtype: float64\n",
      "h1n1_vaccine                   0.377143\n",
      "seasonal_vaccine               1.000000\n",
      "h1n1_concern                   0.154828\n",
      "h1n1_knowledge                 0.120152\n",
      "opinion_h1n1_vacc_effective    0.205072\n",
      "opinion_h1n1_risk              0.216625\n",
      "opinion_h1n1_sick_from_vacc    0.027404\n",
      "opinion_seas_vacc_effective    0.361875\n",
      "opinion_seas_risk              0.390106\n",
      "opinion_seas_sick_from_vacc   -0.061510\n",
      "Name: seasonal_vaccine, dtype: float64\n"
     ]
    }
   ],
   "source": [
    "targets = ['h1n1_vaccine', 'seasonal_vaccine']\n",
    "# features measuring level of opinion concerning the topic\n",
    "level_features = ['h1n1_concern',\n",
    "       'h1n1_knowledge','opinion_h1n1_vacc_effective', 'opinion_h1n1_risk',\n",
    "       'opinion_h1n1_sick_from_vacc', 'opinion_seas_vacc_effective',\n",
    "       'opinion_seas_risk', 'opinion_seas_sick_from_vacc']\n",
    "print(df[targets + level_features].corr()['h1n1_vaccine'])\n",
    "print(df[targets + level_features].corr()['seasonal_vaccine'])"
   ]
  },
  {
   "cell_type": "markdown",
   "metadata": {},
   "source": [
    "Note, since the targets are also binary, the magnitude(and sign!) of the correlation isn't particularly meaningful. Instead, use them to rank most likely important features in order.\n",
    "\n",
    "Opinions of vaccine effecitveness and disease risk seem correlated to each disease/vaccine pair.\n",
    "\n",
    "The strongest correlation is actually between the two vaccines, but that won't be helpful in predicting as that is NOT a feature of the test set."
   ]
  },
  {
   "cell_type": "markdown",
   "metadata": {},
   "source": [
    "Resources for understanding how to determine importance of the different binary features available.\n",
    "\n",
    "https://machinelearningmastery.com/chi-squared-test-for-machine-learning/\n",
    "\n",
    "https://www.khanacademy.org/math/statistics-probability/inference-categorical-data-chi-square-tests/chi-square-goodness-of-fit-tests/v/chi-square-distribution-introduction?modal=1\n",
    "    \n",
    "https://medium.com/data-science-reporter/how-to-measure-feature-importance-in-a-binary-classification-model-d284b8c9a301\n",
    "\n",
    "For binary variables (most of the ones in this dataset), the theoretical histogram we'd expect is a 50-50 split between 0 and 1"
   ]
  },
  {
   "cell_type": "code",
   "execution_count": null,
   "metadata": {},
   "outputs": [],
   "source": []
  }
 ],
 "metadata": {
  "kernelspec": {
   "display_name": "Python 3",
   "language": "python",
   "name": "python3"
  },
  "language_info": {
   "codemirror_mode": {
    "name": "ipython",
    "version": 3
   },
   "file_extension": ".py",
   "mimetype": "text/x-python",
   "name": "python",
   "nbconvert_exporter": "python",
   "pygments_lexer": "ipython3",
   "version": "3.6.9"
  }
 },
 "nbformat": 4,
 "nbformat_minor": 2
}
