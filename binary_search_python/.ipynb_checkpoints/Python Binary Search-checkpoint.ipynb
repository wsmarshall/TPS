{
 "cells": [
  {
   "cell_type": "code",
   "execution_count": 2,
   "metadata": {},
   "outputs": [
    {
     "name": "stdout",
     "output_type": "stream",
     "text": [
      "data.tsv\n",
      "Untitled.ipynb\n"
     ]
    }
   ],
   "source": [
    "!ls\n"
   ]
  },
  {
   "cell_type": "code",
   "execution_count": 3,
   "metadata": {},
   "outputs": [],
   "source": [
    "import pandas as pd\n",
    "import numpy as np"
   ]
  },
  {
   "cell_type": "code",
   "execution_count": 9,
   "metadata": {},
   "outputs": [],
   "source": [
    "names_df = pd.read_table('./data.tsv')\n"
   ]
  },
  {
   "cell_type": "code",
   "execution_count": null,
   "metadata": {},
   "outputs": [],
   "source": [
    "name_list = names_df['primaryName'].to_frame()\n",
    "name_list.to_csv('names.txt', ' ', header=False, index=False)\n"
   ]
  },
  {
   "cell_type": "code",
   "execution_count": 13,
   "metadata": {},
   "outputs": [
    {
     "data": {
      "text/html": [
       "<div>\n",
       "<style scoped>\n",
       "    .dataframe tbody tr th:only-of-type {\n",
       "        vertical-align: middle;\n",
       "    }\n",
       "\n",
       "    .dataframe tbody tr th {\n",
       "        vertical-align: top;\n",
       "    }\n",
       "\n",
       "    .dataframe thead th {\n",
       "        text-align: right;\n",
       "    }\n",
       "</style>\n",
       "<table border=\"1\" class=\"dataframe\">\n",
       "  <thead>\n",
       "    <tr style=\"text-align: right;\">\n",
       "      <th></th>\n",
       "      <th>primaryName</th>\n",
       "    </tr>\n",
       "  </thead>\n",
       "  <tbody>\n",
       "    <tr>\n",
       "      <td>7946175</td>\n",
       "      <td>!'aru Ikhuisi Piet Berendse</td>\n",
       "    </tr>\n",
       "    <tr>\n",
       "      <td>6541290</td>\n",
       "      <td>!Gubi Tietie</td>\n",
       "    </tr>\n",
       "    <tr>\n",
       "      <td>4845988</td>\n",
       "      <td>!Mystery Girl!</td>\n",
       "    </tr>\n",
       "    <tr>\n",
       "      <td>890438</td>\n",
       "      <td>!Nqate Xqamxebe</td>\n",
       "    </tr>\n",
       "    <tr>\n",
       "      <td>2312745</td>\n",
       "      <td>#1 FanGirl</td>\n",
       "    </tr>\n",
       "  </tbody>\n",
       "</table>\n",
       "</div>"
      ],
      "text/plain": [
       "                         primaryName\n",
       "7946175  !'aru Ikhuisi Piet Berendse\n",
       "6541290                 !Gubi Tietie\n",
       "4845988               !Mystery Girl!\n",
       "890438               !Nqate Xqamxebe\n",
       "2312745                   #1 FanGirl"
      ]
     },
     "execution_count": 13,
     "metadata": {},
     "output_type": "execute_result"
    }
   ],
   "source": [
    "# sorted_names\n",
    "sorted_names = names_df['primaryName'].sort_values().to_frame()\n",
    "sorted_names.head()"
   ]
  },
  {
   "cell_type": "code",
   "execution_count": 14,
   "metadata": {},
   "outputs": [],
   "source": [
    "sorted_names.to_csv('sorted_names.txt', ' ', header=False, index=False) # could set quotechar to '' instead of cleaning below"
   ]
  },
  {
   "cell_type": "code",
   "execution_count": 36,
   "metadata": {},
   "outputs": [],
   "source": [
    "def load_names(path):\n",
    "    def clean(s):\n",
    "        return s.strip('\"')\n",
    "    with open(path,encoding=\"utf-8\") as tf:\n",
    "        return list(map(clean, tf.read().splitlines()))\n",
    "    \n",
    "names = load_names('names.txt')\n",
    "sorted_names = load_names('sorted_names.txt')"
   ]
  },
  {
   "cell_type": "code",
   "execution_count": 16,
   "metadata": {},
   "outputs": [
    {
     "name": "stdout",
     "output_type": "stream",
     "text": [
      "12.5 ns ± 0.103 ns per loop (mean ± std. dev. of 7 runs, 100000000 loops each)\n"
     ]
    }
   ],
   "source": [
    "%%timeit\n"
   ]
  },
  {
   "cell_type": "code",
   "execution_count": null,
   "metadata": {},
   "outputs": [],
   "source": []
  }
 ],
 "metadata": {
  "kernelspec": {
   "display_name": "Python 3",
   "language": "python",
   "name": "python3"
  },
  "language_info": {
   "codemirror_mode": {
    "name": "ipython",
    "version": 3
   },
   "file_extension": ".py",
   "mimetype": "text/x-python",
   "name": "python",
   "nbconvert_exporter": "python",
   "pygments_lexer": "ipython3",
   "version": "3.6.9"
  }
 },
 "nbformat": 4,
 "nbformat_minor": 2
}
