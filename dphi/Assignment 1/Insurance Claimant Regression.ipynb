{
 "cells": [
  {
   "cell_type": "code",
   "execution_count": 1,
   "metadata": {},
   "outputs": [],
   "source": [
    "import pandas as pd\n",
    "\n",
    "insurance_data =  pd.read_csv(\"https://github.com/dphi-official/Datasets/blob/master/travel_insurance/Training_set_label.csv?raw=true\")"
   ]
  },
  {
   "cell_type": "code",
   "execution_count": 2,
   "metadata": {},
   "outputs": [],
   "source": [
    "import matplotlib.pyplot as plt\n",
    "import sklearn\n",
    "from sklearn.model_selection import train_test_split\n",
    "from sklearn.linear_model import LogisticRegression\n",
    "from sklearn.tree import DecisionTreeClassifier\n",
    "from sklearn.ensemble import RandomForestClassifier\n",
    "from sklearn.pipeline import Pipeline"
   ]
  },
  {
   "cell_type": "code",
   "execution_count": 3,
   "metadata": {},
   "outputs": [
    {
     "data": {
      "text/html": [
       "<div>\n",
       "<style scoped>\n",
       "    .dataframe tbody tr th:only-of-type {\n",
       "        vertical-align: middle;\n",
       "    }\n",
       "\n",
       "    .dataframe tbody tr th {\n",
       "        vertical-align: top;\n",
       "    }\n",
       "\n",
       "    .dataframe thead th {\n",
       "        text-align: right;\n",
       "    }\n",
       "</style>\n",
       "<table border=\"1\" class=\"dataframe\">\n",
       "  <thead>\n",
       "    <tr style=\"text-align: right;\">\n",
       "      <th></th>\n",
       "      <th>Agency</th>\n",
       "      <th>Agency Type</th>\n",
       "      <th>Distribution Channel</th>\n",
       "      <th>Product Name</th>\n",
       "      <th>Duration</th>\n",
       "      <th>Destination</th>\n",
       "      <th>Net Sales</th>\n",
       "      <th>Commision (in value)</th>\n",
       "      <th>Gender</th>\n",
       "      <th>Age</th>\n",
       "      <th>Claim</th>\n",
       "    </tr>\n",
       "  </thead>\n",
       "  <tbody>\n",
       "    <tr>\n",
       "      <td>0</td>\n",
       "      <td>CWT</td>\n",
       "      <td>Travel Agency</td>\n",
       "      <td>Online</td>\n",
       "      <td>Rental Vehicle Excess Insurance</td>\n",
       "      <td>61</td>\n",
       "      <td>UNITED KINGDOM</td>\n",
       "      <td>19.8</td>\n",
       "      <td>11.88</td>\n",
       "      <td>NaN</td>\n",
       "      <td>29</td>\n",
       "      <td>0</td>\n",
       "    </tr>\n",
       "    <tr>\n",
       "      <td>1</td>\n",
       "      <td>EPX</td>\n",
       "      <td>Travel Agency</td>\n",
       "      <td>Online</td>\n",
       "      <td>Cancellation Plan</td>\n",
       "      <td>93</td>\n",
       "      <td>NEW ZEALAND</td>\n",
       "      <td>63.0</td>\n",
       "      <td>0.00</td>\n",
       "      <td>NaN</td>\n",
       "      <td>36</td>\n",
       "      <td>0</td>\n",
       "    </tr>\n",
       "    <tr>\n",
       "      <td>2</td>\n",
       "      <td>EPX</td>\n",
       "      <td>Travel Agency</td>\n",
       "      <td>Online</td>\n",
       "      <td>2 way Comprehensive Plan</td>\n",
       "      <td>22</td>\n",
       "      <td>UNITED STATES</td>\n",
       "      <td>22.0</td>\n",
       "      <td>0.00</td>\n",
       "      <td>NaN</td>\n",
       "      <td>25</td>\n",
       "      <td>0</td>\n",
       "    </tr>\n",
       "    <tr>\n",
       "      <td>3</td>\n",
       "      <td>C2B</td>\n",
       "      <td>Airlines</td>\n",
       "      <td>Online</td>\n",
       "      <td>Silver Plan</td>\n",
       "      <td>14</td>\n",
       "      <td>SINGAPORE</td>\n",
       "      <td>54.5</td>\n",
       "      <td>13.63</td>\n",
       "      <td>M</td>\n",
       "      <td>24</td>\n",
       "      <td>0</td>\n",
       "    </tr>\n",
       "    <tr>\n",
       "      <td>4</td>\n",
       "      <td>EPX</td>\n",
       "      <td>Travel Agency</td>\n",
       "      <td>Online</td>\n",
       "      <td>Cancellation Plan</td>\n",
       "      <td>90</td>\n",
       "      <td>VIET NAM</td>\n",
       "      <td>10.0</td>\n",
       "      <td>0.00</td>\n",
       "      <td>NaN</td>\n",
       "      <td>23</td>\n",
       "      <td>0</td>\n",
       "    </tr>\n",
       "    <tr>\n",
       "      <td>...</td>\n",
       "      <td>...</td>\n",
       "      <td>...</td>\n",
       "      <td>...</td>\n",
       "      <td>...</td>\n",
       "      <td>...</td>\n",
       "      <td>...</td>\n",
       "      <td>...</td>\n",
       "      <td>...</td>\n",
       "      <td>...</td>\n",
       "      <td>...</td>\n",
       "      <td>...</td>\n",
       "    </tr>\n",
       "    <tr>\n",
       "      <td>48255</td>\n",
       "      <td>EPX</td>\n",
       "      <td>Travel Agency</td>\n",
       "      <td>Online</td>\n",
       "      <td>2 way Comprehensive Plan</td>\n",
       "      <td>39</td>\n",
       "      <td>CHINA</td>\n",
       "      <td>44.0</td>\n",
       "      <td>0.00</td>\n",
       "      <td>NaN</td>\n",
       "      <td>36</td>\n",
       "      <td>0</td>\n",
       "    </tr>\n",
       "    <tr>\n",
       "      <td>48256</td>\n",
       "      <td>C2B</td>\n",
       "      <td>Airlines</td>\n",
       "      <td>Online</td>\n",
       "      <td>Bronze Plan</td>\n",
       "      <td>20</td>\n",
       "      <td>SINGAPORE</td>\n",
       "      <td>60.0</td>\n",
       "      <td>15.00</td>\n",
       "      <td>F</td>\n",
       "      <td>30</td>\n",
       "      <td>0</td>\n",
       "    </tr>\n",
       "    <tr>\n",
       "      <td>48257</td>\n",
       "      <td>CWT</td>\n",
       "      <td>Travel Agency</td>\n",
       "      <td>Online</td>\n",
       "      <td>Rental Vehicle Excess Insurance</td>\n",
       "      <td>19</td>\n",
       "      <td>AUSTRALIA</td>\n",
       "      <td>29.7</td>\n",
       "      <td>17.82</td>\n",
       "      <td>NaN</td>\n",
       "      <td>43</td>\n",
       "      <td>0</td>\n",
       "    </tr>\n",
       "    <tr>\n",
       "      <td>48258</td>\n",
       "      <td>EPX</td>\n",
       "      <td>Travel Agency</td>\n",
       "      <td>Online</td>\n",
       "      <td>2 way Comprehensive Plan</td>\n",
       "      <td>7</td>\n",
       "      <td>INDONESIA</td>\n",
       "      <td>20.0</td>\n",
       "      <td>0.00</td>\n",
       "      <td>NaN</td>\n",
       "      <td>61</td>\n",
       "      <td>0</td>\n",
       "    </tr>\n",
       "    <tr>\n",
       "      <td>48259</td>\n",
       "      <td>EPX</td>\n",
       "      <td>Travel Agency</td>\n",
       "      <td>Online</td>\n",
       "      <td>1 way Comprehensive Plan</td>\n",
       "      <td>35</td>\n",
       "      <td>NEW ZEALAND</td>\n",
       "      <td>20.0</td>\n",
       "      <td>0.00</td>\n",
       "      <td>NaN</td>\n",
       "      <td>29</td>\n",
       "      <td>0</td>\n",
       "    </tr>\n",
       "  </tbody>\n",
       "</table>\n",
       "<p>48260 rows × 11 columns</p>\n",
       "</div>"
      ],
      "text/plain": [
       "      Agency    Agency Type Distribution Channel  \\\n",
       "0        CWT  Travel Agency               Online   \n",
       "1        EPX  Travel Agency               Online   \n",
       "2        EPX  Travel Agency               Online   \n",
       "3        C2B       Airlines               Online   \n",
       "4        EPX  Travel Agency               Online   \n",
       "...      ...            ...                  ...   \n",
       "48255    EPX  Travel Agency               Online   \n",
       "48256    C2B       Airlines               Online   \n",
       "48257    CWT  Travel Agency               Online   \n",
       "48258    EPX  Travel Agency               Online   \n",
       "48259    EPX  Travel Agency               Online   \n",
       "\n",
       "                          Product Name  Duration     Destination  Net Sales  \\\n",
       "0      Rental Vehicle Excess Insurance        61  UNITED KINGDOM       19.8   \n",
       "1                    Cancellation Plan        93     NEW ZEALAND       63.0   \n",
       "2             2 way Comprehensive Plan        22   UNITED STATES       22.0   \n",
       "3                          Silver Plan        14       SINGAPORE       54.5   \n",
       "4                    Cancellation Plan        90        VIET NAM       10.0   \n",
       "...                                ...       ...             ...        ...   \n",
       "48255         2 way Comprehensive Plan        39           CHINA       44.0   \n",
       "48256                      Bronze Plan        20       SINGAPORE       60.0   \n",
       "48257  Rental Vehicle Excess Insurance        19       AUSTRALIA       29.7   \n",
       "48258         2 way Comprehensive Plan         7       INDONESIA       20.0   \n",
       "48259         1 way Comprehensive Plan        35     NEW ZEALAND       20.0   \n",
       "\n",
       "       Commision (in value) Gender  Age  Claim  \n",
       "0                     11.88    NaN   29      0  \n",
       "1                      0.00    NaN   36      0  \n",
       "2                      0.00    NaN   25      0  \n",
       "3                     13.63      M   24      0  \n",
       "4                      0.00    NaN   23      0  \n",
       "...                     ...    ...  ...    ...  \n",
       "48255                  0.00    NaN   36      0  \n",
       "48256                 15.00      F   30      0  \n",
       "48257                 17.82    NaN   43      0  \n",
       "48258                  0.00    NaN   61      0  \n",
       "48259                  0.00    NaN   29      0  \n",
       "\n",
       "[48260 rows x 11 columns]"
      ]
     },
     "execution_count": 3,
     "metadata": {},
     "output_type": "execute_result"
    }
   ],
   "source": [
    "insurance_data"
   ]
  },
  {
   "cell_type": "code",
   "execution_count": 4,
   "metadata": {},
   "outputs": [
    {
     "data": {
      "text/plain": [
       "Agency                      0\n",
       "Agency Type                 0\n",
       "Distribution Channel        0\n",
       "Product Name                0\n",
       "Duration                    0\n",
       "Destination                 0\n",
       "Net Sales                   0\n",
       "Commision (in value)        0\n",
       "Gender                  34361\n",
       "Age                         0\n",
       "Claim                       0\n",
       "dtype: int64"
      ]
     },
     "execution_count": 4,
     "metadata": {},
     "output_type": "execute_result"
    }
   ],
   "source": [
    "#q1 missing values?\n",
    "insurance_data.isna().sum()"
   ]
  },
  {
   "cell_type": "code",
   "execution_count": 5,
   "metadata": {},
   "outputs": [
    {
     "data": {
      "text/plain": [
       "<matplotlib.axes._subplots.AxesSubplot at 0xb178cc0>"
      ]
     },
     "execution_count": 5,
     "metadata": {},
     "output_type": "execute_result"
    },
    {
     "data": {
      "image/png": "[encoded data removed]",
      "text/plain": [
       "<Figure size 432x288 with 1 Axes>"
      ]
     },
     "metadata": {
      "needs_background": "light"
     },
     "output_type": "display_data"
    }
   ],
   "source": [
    "insurance_data['Duration'].plot()\n"
   ]
  },
  {
   "cell_type": "code",
   "execution_count": 6,
   "metadata": {},
   "outputs": [
    {
     "data": {
      "text/html": [
       "<div>\n",
       "<style scoped>\n",
       "    .dataframe tbody tr th:only-of-type {\n",
       "        vertical-align: middle;\n",
       "    }\n",
       "\n",
       "    .dataframe tbody tr th {\n",
       "        vertical-align: top;\n",
       "    }\n",
       "\n",
       "    .dataframe thead th {\n",
       "        text-align: right;\n",
       "    }\n",
       "</style>\n",
       "<table border=\"1\" class=\"dataframe\">\n",
       "  <thead>\n",
       "    <tr style=\"text-align: right;\">\n",
       "      <th></th>\n",
       "      <th>Duration</th>\n",
       "      <th>Net Sales</th>\n",
       "      <th>Commision (in value)</th>\n",
       "      <th>Age</th>\n",
       "      <th>Claim</th>\n",
       "    </tr>\n",
       "  </thead>\n",
       "  <tbody>\n",
       "  </tbody>\n",
       "</table>\n",
       "</div>"
      ],
      "text/plain": [
       "Empty DataFrame\n",
       "Columns: [Duration, Net Sales, Commision (in value), Age, Claim]\n",
       "Index: []"
      ]
     },
     "execution_count": 6,
     "metadata": {},
     "output_type": "execute_result"
    }
   ],
   "source": [
    "nums = insurance_data.select_dtypes('number')\n",
    "nums[nums<0].dropna() #no columns with negative values"
   ]
  },
  {
   "cell_type": "code",
   "execution_count": 7,
   "metadata": {},
   "outputs": [
    {
     "data": {
      "text/plain": [
       "F    255\n",
       "M    228\n",
       "Name: Gender, dtype: int64"
      ]
     },
     "execution_count": 7,
     "metadata": {},
     "output_type": "execute_result"
    }
   ],
   "source": [
    "# are most customers claiming insurance male? Nope\n",
    "insurance_data[insurance_data['Claim']==1]['Gender'].value_counts()"
   ]
  },
  {
   "cell_type": "markdown",
   "metadata": {},
   "source": [
    "\n",
    "    Fill the missing values in 'Gender' column with 'Not Specified' X\n",
    "    Drop 'Distribution Channel', 'Destination' and 'Agency Type'. X\n",
    "    Perform one hot encoding for 'Agency','Gender','Product Name' using sklearn\n",
    "    Separate dependent and independent features X \n",
    "    Split the data into training and test set with test_size = 0.3 and random_state = 101\n",
    "    As the data has imbalanced classes, use smote to equalize the classes on training set splitted in operation 5. Use random_state = 25 and sampling_strategy = 1.0 while initializing smote.\n",
    "\n"
   ]
  },
  {
   "cell_type": "code",
   "execution_count": 8,
   "metadata": {},
   "outputs": [],
   "source": [
    "insurance_data.drop(columns=['Distribution Channel', 'Destination','Agency Type'], inplace=True)\n",
    "insurance_data['Gender']=insurance_data['Gender'].fillna('Not Specified')"
   ]
  },
  {
   "cell_type": "code",
   "execution_count": 9,
   "metadata": {},
   "outputs": [
    {
     "data": {
      "text/html": [
       "<div>\n",
       "<style scoped>\n",
       "    .dataframe tbody tr th:only-of-type {\n",
       "        vertical-align: middle;\n",
       "    }\n",
       "\n",
       "    .dataframe tbody tr th {\n",
       "        vertical-align: top;\n",
       "    }\n",
       "\n",
       "    .dataframe thead th {\n",
       "        text-align: right;\n",
       "    }\n",
       "</style>\n",
       "<table border=\"1\" class=\"dataframe\">\n",
       "  <thead>\n",
       "    <tr style=\"text-align: right;\">\n",
       "      <th></th>\n",
       "      <th>Agency</th>\n",
       "      <th>Product Name</th>\n",
       "      <th>Duration</th>\n",
       "      <th>Net Sales</th>\n",
       "      <th>Commision (in value)</th>\n",
       "      <th>Gender</th>\n",
       "      <th>Age</th>\n",
       "      <th>Claim</th>\n",
       "    </tr>\n",
       "  </thead>\n",
       "  <tbody>\n",
       "    <tr>\n",
       "      <td>0</td>\n",
       "      <td>CWT</td>\n",
       "      <td>Rental Vehicle Excess Insurance</td>\n",
       "      <td>61</td>\n",
       "      <td>19.8</td>\n",
       "      <td>11.88</td>\n",
       "      <td>Not Specified</td>\n",
       "      <td>29</td>\n",
       "      <td>0</td>\n",
       "    </tr>\n",
       "    <tr>\n",
       "      <td>1</td>\n",
       "      <td>EPX</td>\n",
       "      <td>Cancellation Plan</td>\n",
       "      <td>93</td>\n",
       "      <td>63.0</td>\n",
       "      <td>0.00</td>\n",
       "      <td>Not Specified</td>\n",
       "      <td>36</td>\n",
       "      <td>0</td>\n",
       "    </tr>\n",
       "    <tr>\n",
       "      <td>2</td>\n",
       "      <td>EPX</td>\n",
       "      <td>2 way Comprehensive Plan</td>\n",
       "      <td>22</td>\n",
       "      <td>22.0</td>\n",
       "      <td>0.00</td>\n",
       "      <td>Not Specified</td>\n",
       "      <td>25</td>\n",
       "      <td>0</td>\n",
       "    </tr>\n",
       "    <tr>\n",
       "      <td>3</td>\n",
       "      <td>C2B</td>\n",
       "      <td>Silver Plan</td>\n",
       "      <td>14</td>\n",
       "      <td>54.5</td>\n",
       "      <td>13.63</td>\n",
       "      <td>M</td>\n",
       "      <td>24</td>\n",
       "      <td>0</td>\n",
       "    </tr>\n",
       "    <tr>\n",
       "      <td>4</td>\n",
       "      <td>EPX</td>\n",
       "      <td>Cancellation Plan</td>\n",
       "      <td>90</td>\n",
       "      <td>10.0</td>\n",
       "      <td>0.00</td>\n",
       "      <td>Not Specified</td>\n",
       "      <td>23</td>\n",
       "      <td>0</td>\n",
       "    </tr>\n",
       "    <tr>\n",
       "      <td>...</td>\n",
       "      <td>...</td>\n",
       "      <td>...</td>\n",
       "      <td>...</td>\n",
       "      <td>...</td>\n",
       "      <td>...</td>\n",
       "      <td>...</td>\n",
       "      <td>...</td>\n",
       "      <td>...</td>\n",
       "    </tr>\n",
       "    <tr>\n",
       "      <td>48255</td>\n",
       "      <td>EPX</td>\n",
       "      <td>2 way Comprehensive Plan</td>\n",
       "      <td>39</td>\n",
       "      <td>44.0</td>\n",
       "      <td>0.00</td>\n",
       "      <td>Not Specified</td>\n",
       "      <td>36</td>\n",
       "      <td>0</td>\n",
       "    </tr>\n",
       "    <tr>\n",
       "      <td>48256</td>\n",
       "      <td>C2B</td>\n",
       "      <td>Bronze Plan</td>\n",
       "      <td>20</td>\n",
       "      <td>60.0</td>\n",
       "      <td>15.00</td>\n",
       "      <td>F</td>\n",
       "      <td>30</td>\n",
       "      <td>0</td>\n",
       "    </tr>\n",
       "    <tr>\n",
       "      <td>48257</td>\n",
       "      <td>CWT</td>\n",
       "      <td>Rental Vehicle Excess Insurance</td>\n",
       "      <td>19</td>\n",
       "      <td>29.7</td>\n",
       "      <td>17.82</td>\n",
       "      <td>Not Specified</td>\n",
       "      <td>43</td>\n",
       "      <td>0</td>\n",
       "    </tr>\n",
       "    <tr>\n",
       "      <td>48258</td>\n",
       "      <td>EPX</td>\n",
       "      <td>2 way Comprehensive Plan</td>\n",
       "      <td>7</td>\n",
       "      <td>20.0</td>\n",
       "      <td>0.00</td>\n",
       "      <td>Not Specified</td>\n",
       "      <td>61</td>\n",
       "      <td>0</td>\n",
       "    </tr>\n",
       "    <tr>\n",
       "      <td>48259</td>\n",
       "      <td>EPX</td>\n",
       "      <td>1 way Comprehensive Plan</td>\n",
       "      <td>35</td>\n",
       "      <td>20.0</td>\n",
       "      <td>0.00</td>\n",
       "      <td>Not Specified</td>\n",
       "      <td>29</td>\n",
       "      <td>0</td>\n",
       "    </tr>\n",
       "  </tbody>\n",
       "</table>\n",
       "<p>48260 rows × 8 columns</p>\n",
       "</div>"
      ],
      "text/plain": [
       "      Agency                     Product Name  Duration  Net Sales  \\\n",
       "0        CWT  Rental Vehicle Excess Insurance        61       19.8   \n",
       "1        EPX                Cancellation Plan        93       63.0   \n",
       "2        EPX         2 way Comprehensive Plan        22       22.0   \n",
       "3        C2B                      Silver Plan        14       54.5   \n",
       "4        EPX                Cancellation Plan        90       10.0   \n",
       "...      ...                              ...       ...        ...   \n",
       "48255    EPX         2 way Comprehensive Plan        39       44.0   \n",
       "48256    C2B                      Bronze Plan        20       60.0   \n",
       "48257    CWT  Rental Vehicle Excess Insurance        19       29.7   \n",
       "48258    EPX         2 way Comprehensive Plan         7       20.0   \n",
       "48259    EPX         1 way Comprehensive Plan        35       20.0   \n",
       "\n",
       "       Commision (in value)         Gender  Age  Claim  \n",
       "0                     11.88  Not Specified   29      0  \n",
       "1                      0.00  Not Specified   36      0  \n",
       "2                      0.00  Not Specified   25      0  \n",
       "3                     13.63              M   24      0  \n",
       "4                      0.00  Not Specified   23      0  \n",
       "...                     ...            ...  ...    ...  \n",
       "48255                  0.00  Not Specified   36      0  \n",
       "48256                 15.00              F   30      0  \n",
       "48257                 17.82  Not Specified   43      0  \n",
       "48258                  0.00  Not Specified   61      0  \n",
       "48259                  0.00  Not Specified   29      0  \n",
       "\n",
       "[48260 rows x 8 columns]"
      ]
     },
     "execution_count": 9,
     "metadata": {},
     "output_type": "execute_result"
    }
   ],
   "source": [
    "insurance_data"
   ]
  },
  {
   "cell_type": "code",
   "execution_count": null,
   "metadata": {},
   "outputs": [],
   "source": []
  },
  {
   "cell_type": "code",
   "execution_count": 10,
   "metadata": {},
   "outputs": [],
   "source": [
    "from imblearn.over_sampling import SMOTE"
   ]
  },
  {
   "cell_type": "code",
   "execution_count": 11,
   "metadata": {},
   "outputs": [],
   "source": [
    "\n",
    "X = insurance_data.drop(columns='Claim')\n",
    "y = insurance_data['Claim']\n",
    "\n",
    "# One hot encode ['Agency','Gender','Product Name'] using pd.get_dummies\n",
    "X = pd.get_dummies(X)\n",
    "\n",
    "# # Separate using test train split test_size = 0.3 and random_state = 101\n",
    "Xtrain, Xtest, ytrain, ytest = train_test_split(X,y, test_size=0.3, random_state=101)\n",
    "\n",
    "# # As the data has imbalanced classes, use smote to equalize the classes on training set splitted in operation 5. Use random_state = 25 and sampling_strategy = 1.0 while initializing smote.\n",
    "sm = SMOTE(random_state = 25, sampling_strategy = 1.0)\n",
    "Xtrain, ytrain = sm.fit_sample(Xtrain, ytrain)"
   ]
  },
  {
   "cell_type": "code",
   "execution_count": 12,
   "metadata": {},
   "outputs": [
    {
     "name": "stderr",
     "output_type": "stream",
     "text": [
      "C:\\Users\\way\\Anaconda3\\lib\\site-packages\\sklearn\\linear_model\\_logistic.py:764: ConvergenceWarning: lbfgs failed to converge (status=1):\n",
      "STOP: TOTAL NO. of ITERATIONS REACHED LIMIT.\n",
      "\n",
      "Increase the number of iterations (max_iter) or scale the data as shown in:\n",
      "    https://scikit-learn.org/stable/modules/preprocessing.html\n",
      "Please also refer to the documentation for alternative solver options:\n",
      "    https://scikit-learn.org/stable/modules/linear_model.html#logistic-regression\n",
      "  extra_warning_msg=_LOGISTIC_SOLVER_CONVERGENCE_MSG)\n"
     ]
    },
    {
     "data": {
      "text/plain": [
       "LogisticRegression()"
      ]
     },
     "execution_count": 12,
     "metadata": {},
     "output_type": "execute_result"
    }
   ],
   "source": [
    "LR = LogisticRegression(max_iter=100)\n",
    "LR.fit(Xtrain, ytrain)"
   ]
  },
  {
   "cell_type": "code",
   "execution_count": 13,
   "metadata": {},
   "outputs": [
    {
     "data": {
      "text/plain": [
       "(0.8424058432775257, 0.8290567637181702)"
      ]
     },
     "execution_count": 13,
     "metadata": {},
     "output_type": "execute_result"
    }
   ],
   "source": [
    "LR.score(Xtrain, ytrain), sklearn.metrics.f1_score(ytrain, LR.predict(Xtrain))"
   ]
  },
  {
   "cell_type": "code",
   "execution_count": 14,
   "metadata": {},
   "outputs": [
    {
     "data": {
      "text/plain": [
       "(0.9152507252382925, 0.09446494464944649)"
      ]
     },
     "execution_count": 14,
     "metadata": {},
     "output_type": "execute_result"
    }
   ],
   "source": [
    "#test\n",
    "LR.score(Xtest,ytest), sklearn.metrics.f1_score(ytest, LR.predict(Xtest))"
   ]
  },
  {
   "cell_type": "code",
   "execution_count": 15,
   "metadata": {},
   "outputs": [
    {
     "data": {
      "text/plain": [
       "DecisionTreeClassifier(random_state=1)"
      ]
     },
     "execution_count": 15,
     "metadata": {},
     "output_type": "execute_result"
    }
   ],
   "source": [
    "# Q4 Decision Tree model\n",
    "DT = DecisionTreeClassifier(random_state=1)\n",
    "DT.fit(Xtrain, ytrain)"
   ]
  },
  {
   "cell_type": "code",
   "execution_count": 16,
   "metadata": {},
   "outputs": [
    {
     "data": {
      "text/plain": [
       "(0.9942889777270132, 0.994290007513148)"
      ]
     },
     "execution_count": 16,
     "metadata": {},
     "output_type": "execute_result"
    }
   ],
   "source": [
    "#Accuracy, f1 of train\n",
    "DT.score(Xtrain, ytrain),sklearn.metrics.f1_score(ytrain, DT.predict(Xtrain))"
   ]
  },
  {
   "cell_type": "code",
   "execution_count": 17,
   "metadata": {
    "scrolled": true
   },
   "outputs": [
    {
     "data": {
      "text/plain": [
       "(0.9560022102500345, 0.06734992679355783)"
      ]
     },
     "execution_count": 17,
     "metadata": {},
     "output_type": "execute_result"
    }
   ],
   "source": [
    "#Accuracy, f1 of test\n",
    "DT.score(Xtest, ytest),sklearn.metrics.f1_score(ytest, DT.predict(Xtest))"
   ]
  },
  {
   "cell_type": "markdown",
   "metadata": {},
   "source": [
    "# q5 Random Forest "
   ]
  },
  {
   "cell_type": "code",
   "execution_count": 18,
   "metadata": {},
   "outputs": [
    {
     "data": {
      "text/plain": [
       "RandomForestClassifier(random_state=1)"
      ]
     },
     "execution_count": 18,
     "metadata": {},
     "output_type": "execute_result"
    }
   ],
   "source": [
    "RF = RandomForestClassifier(random_state=1)\n",
    "RF.fit(Xtrain, ytrain)"
   ]
  },
  {
   "cell_type": "code",
   "execution_count": 19,
   "metadata": {},
   "outputs": [
    {
     "data": {
      "text/plain": [
       "(0.9942889777270132, 0.9942985746436609)"
      ]
     },
     "execution_count": 19,
     "metadata": {},
     "output_type": "execute_result"
    }
   ],
   "source": [
    "RF.score(Xtrain, ytrain),sklearn.metrics.f1_score(ytrain, RF.predict(Xtrain))"
   ]
  },
  {
   "cell_type": "code",
   "execution_count": 20,
   "metadata": {},
   "outputs": [
    {
     "data": {
      "text/plain": [
       "(0.9636690150573284, 0.06405693950177936)"
      ]
     },
     "execution_count": 20,
     "metadata": {},
     "output_type": "execute_result"
    }
   ],
   "source": [
    "RF.score(Xtest, ytest),sklearn.metrics.f1_score(ytest, RF.predict(Xtest))"
   ]
  },
  {
   "cell_type": "code",
   "execution_count": 21,
   "metadata": {},
   "outputs": [],
   "source": [
    "from sklearn.model_selection import GridSearchCV"
   ]
  },
  {
   "cell_type": "code",
   "execution_count": 22,
   "metadata": {},
   "outputs": [
    {
     "name": "stdout",
     "output_type": "stream",
     "text": [
      "Fitting 3 folds for each of 16 candidates, totalling 48 fits\n"
     ]
    },
    {
     "name": "stderr",
     "output_type": "stream",
     "text": [
      "[Parallel(n_jobs=-1)]: Using backend LokyBackend with 4 concurrent workers.\n",
      "[Parallel(n_jobs=-1)]: Done  33 tasks      | elapsed:  1.4min\n",
      "[Parallel(n_jobs=-1)]: Done  48 out of  48 | elapsed:  2.1min finished\n"
     ]
    },
    {
     "data": {
      "text/plain": [
       "GridSearchCV(cv=3, estimator=RandomForestClassifier(random_state=1), n_jobs=-1,\n",
       "             param_grid={'bootstrap': [True], 'max_depth': [10, 20],\n",
       "                         'min_samples_leaf': [3, 4],\n",
       "                         'min_samples_split': [4, 6],\n",
       "                         'n_estimators': [100, 200]},\n",
       "             verbose=2)"
      ]
     },
     "execution_count": 22,
     "metadata": {},
     "output_type": "execute_result"
    }
   ],
   "source": [
    "g1_params = {'bootstrap': [True],\n",
    "'max_depth': [10, 20],\n",
    "'min_samples_leaf': [3, 4],\n",
    "'min_samples_split': [4, 6],\n",
    "'n_estimators': [100, 200]}\n",
    "\n",
    "grid1 = GridSearchCV(RandomForestClassifier(random_state=1), g1_params, cv=3, n_jobs=-1, verbose=2)\n",
    "grid1.fit(Xtrain, ytrain)"
   ]
  },
  {
   "cell_type": "code",
   "execution_count": 23,
   "metadata": {},
   "outputs": [
    {
     "data": {
      "text/plain": [
       "{'bootstrap': True,\n",
       " 'max_depth': 20,\n",
       " 'min_samples_leaf': 3,\n",
       " 'min_samples_split': 4,\n",
       " 'n_estimators': 100}"
      ]
     },
     "execution_count": 23,
     "metadata": {},
     "output_type": "execute_result"
    }
   ],
   "source": [
    "grid1.best_params_"
   ]
  },
  {
   "cell_type": "code",
   "execution_count": 24,
   "metadata": {},
   "outputs": [
    {
     "data": {
      "text/plain": [
       "0.9790645946677087"
      ]
     },
     "execution_count": 24,
     "metadata": {},
     "output_type": "execute_result"
    }
   ],
   "source": [
    "grid1.score(Xtrain,ytrain)"
   ]
  },
  {
   "cell_type": "code",
   "execution_count": 25,
   "metadata": {},
   "outputs": [
    {
     "name": "stdout",
     "output_type": "stream",
     "text": [
      "Fitting 3 folds for each of 16 candidates, totalling 48 fits\n"
     ]
    },
    {
     "name": "stderr",
     "output_type": "stream",
     "text": [
      "[Parallel(n_jobs=-1)]: Using backend LokyBackend with 4 concurrent workers.\n",
      "[Parallel(n_jobs=-1)]: Done  48 out of  48 | elapsed:    3.5s finished\n"
     ]
    },
    {
     "data": {
      "text/plain": [
       "GridSearchCV(cv=3, estimator=DecisionTreeClassifier(random_state=1), n_jobs=-1,\n",
       "             param_grid={'max_leaf_nodes': [5, 10, 15, 20],\n",
       "                         'min_samples_split': [4, 6, 8, 10]},\n",
       "             verbose=2)"
      ]
     },
     "execution_count": 25,
     "metadata": {},
     "output_type": "execute_result"
    }
   ],
   "source": [
    "g2_params = {\n",
    "    'max_leaf_nodes': [5, 10, 15, 20],\n",
    "    'min_samples_split': [4, 6, 8, 10]}\n",
    "\n",
    "grid2 = GridSearchCV(DecisionTreeClassifier(random_state=1), g2_params, cv=3, n_jobs=-1, verbose=2)\n",
    "grid2.fit(Xtrain, ytrain)"
   ]
  },
  {
   "cell_type": "code",
   "execution_count": 26,
   "metadata": {},
   "outputs": [
    {
     "data": {
      "text/plain": [
       "{'max_leaf_nodes': 20, 'min_samples_split': 4}"
      ]
     },
     "execution_count": 26,
     "metadata": {},
     "output_type": "execute_result"
    }
   ],
   "source": [
    "grid2.best_params_"
   ]
  },
  {
   "cell_type": "code",
   "execution_count": 27,
   "metadata": {},
   "outputs": [
    {
     "data": {
      "text/plain": [
       "0.08481532147742818"
      ]
     },
     "execution_count": 27,
     "metadata": {},
     "output_type": "execute_result"
    }
   ],
   "source": [
    "sklearn.metrics.f1_score(ytest, grid1.predict(Xtest))"
   ]
  },
  {
   "cell_type": "code",
   "execution_count": 28,
   "metadata": {},
   "outputs": [
    {
     "data": {
      "text/plain": [
       "0.0881201044386423"
      ]
     },
     "execution_count": 28,
     "metadata": {},
     "output_type": "execute_result"
    }
   ],
   "source": [
    "sklearn.metrics.f1_score(ytest, grid2.predict(Xtest))"
   ]
  },
  {
   "cell_type": "code",
   "execution_count": 29,
   "metadata": {},
   "outputs": [],
   "source": [
    "from sklearn.feature_selection import RFE"
   ]
  },
  {
   "cell_type": "code",
   "execution_count": 30,
   "metadata": {},
   "outputs": [],
   "source": [
    "RF = RandomForestClassifier(random_state=1)"
   ]
  },
  {
   "cell_type": "code",
   "execution_count": 31,
   "metadata": {},
   "outputs": [],
   "source": [
    "feature_elim = RFE(RF,step=1)"
   ]
  },
  {
   "cell_type": "code",
   "execution_count": 32,
   "metadata": {},
   "outputs": [
    {
     "data": {
      "text/plain": [
       "RFE(estimator=RandomForestClassifier(random_state=1))"
      ]
     },
     "execution_count": 32,
     "metadata": {},
     "output_type": "execute_result"
    }
   ],
   "source": [
    "feature_elim.fit(Xtrain, ytrain)"
   ]
  },
  {
   "cell_type": "code",
   "execution_count": 34,
   "metadata": {},
   "outputs": [
    {
     "data": {
      "text/plain": [
       "0.962011327531427"
      ]
     },
     "execution_count": 34,
     "metadata": {},
     "output_type": "execute_result"
    }
   ],
   "source": [
    "feature_elim.score(Xtest,ytest)"
   ]
  },
  {
   "cell_type": "code",
   "execution_count": 36,
   "metadata": {},
   "outputs": [
    {
     "data": {
      "text/plain": [
       "(0.9942739487210316, 0.994283656659315)"
      ]
     },
     "execution_count": 36,
     "metadata": {},
     "output_type": "execute_result"
    }
   ],
   "source": [
    "feature_elim.score(Xtrain,ytrain), sklearn.metrics.f1_score(ytrain, feature_elim.predict(Xtrain))"
   ]
  },
  {
   "cell_type": "code",
   "execution_count": 37,
   "metadata": {},
   "outputs": [
    {
     "data": {
      "text/plain": [
       "(0.962011327531427, 0.06462585034013606)"
      ]
     },
     "execution_count": 37,
     "metadata": {},
     "output_type": "execute_result"
    }
   ],
   "source": [
    "feature_elim.score(Xtest,ytest), sklearn.metrics.f1_score(ytest, feature_elim.predict(Xtest))"
   ]
  },
  {
   "cell_type": "code",
   "execution_count": 39,
   "metadata": {},
   "outputs": [
    {
     "data": {
      "text/plain": [
       "24"
      ]
     },
     "execution_count": 39,
     "metadata": {},
     "output_type": "execute_result"
    }
   ],
   "source": [
    "sum(feature_elim.support_)"
   ]
  },
  {
   "cell_type": "code",
   "execution_count": 40,
   "metadata": {},
   "outputs": [
    {
     "data": {
      "text/plain": [
       "array([ 1,  1,  1,  1, 20,  7,  1, 17, 13, 21,  1,  1,  6,  1,  5,  1,  4,\n",
       "        8,  2, 19,  1,  1, 12, 14,  1, 23, 15, 16,  1,  1,  1, 25,  1,  3,\n",
       "       22, 11,  1,  1, 10, 18,  9, 24,  1,  1, 26,  1,  1,  1,  1])"
      ]
     },
     "execution_count": 40,
     "metadata": {},
     "output_type": "execute_result"
    }
   ],
   "source": [
    "feature_elim.ranking_"
   ]
  },
  {
   "cell_type": "code",
   "execution_count": 41,
   "metadata": {},
   "outputs": [
    {
     "data": {
      "text/plain": [
       "Index(['Duration', 'Net Sales', 'Commision (in value)', 'Age', 'Agency_ADM',\n",
       "       'Agency_ART', 'Agency_C2B', 'Agency_CBH', 'Agency_CCR', 'Agency_CSR',\n",
       "       'Agency_CWT', 'Agency_EPX', 'Agency_JWT', 'Agency_JZI', 'Agency_KML',\n",
       "       'Agency_LWC', 'Agency_RAB', 'Agency_SSI', 'Agency_TST', 'Agency_TTW',\n",
       "       'Product Name_1 way Comprehensive Plan',\n",
       "       'Product Name_2 way Comprehensive Plan', 'Product Name_24 Protect',\n",
       "       'Product Name_Annual Gold Plan', 'Product Name_Annual Silver Plan',\n",
       "       'Product Name_Annual Travel Protect Gold',\n",
       "       'Product Name_Annual Travel Protect Platinum',\n",
       "       'Product Name_Annual Travel Protect Silver', 'Product Name_Basic Plan',\n",
       "       'Product Name_Bronze Plan', 'Product Name_Cancellation Plan',\n",
       "       'Product Name_Child Comprehensive Plan',\n",
       "       'Product Name_Comprehensive Plan', 'Product Name_Gold Plan',\n",
       "       'Product Name_Individual Comprehensive Plan',\n",
       "       'Product Name_Premier Plan',\n",
       "       'Product Name_Rental Vehicle Excess Insurance',\n",
       "       'Product Name_Silver Plan',\n",
       "       'Product Name_Single Trip Travel Protect Gold',\n",
       "       'Product Name_Single Trip Travel Protect Platinum',\n",
       "       'Product Name_Single Trip Travel Protect Silver',\n",
       "       'Product Name_Spouse or Parents Comprehensive Plan',\n",
       "       'Product Name_Ticket Protector', 'Product Name_Travel Cruise Protect',\n",
       "       'Product Name_Travel Cruise Protect Family', 'Product Name_Value Plan',\n",
       "       'Gender_F', 'Gender_M', 'Gender_Not Specified'],\n",
       "      dtype='object')"
      ]
     },
     "execution_count": 41,
     "metadata": {},
     "output_type": "execute_result"
    }
   ],
   "source": [
    "Xtrain.columns"
   ]
  },
  {
   "cell_type": "markdown",
   "metadata": {},
   "source": [
    "# Datathon submission: Using one of the above models to predict"
   ]
  },
  {
   "cell_type": "code",
   "execution_count": 146,
   "metadata": {},
   "outputs": [],
   "source": [
    "# training data: use the whole set\n",
    "\n",
    "Xtrain = insurance_data.drop(columns='Claim')\n",
    "ytrain = insurance_data['Claim']\n",
    "\n",
    "# One hot encode ['Agency','Gender','Product Name'] using pd.get_dummies\n",
    "Xtrain = pd.get_dummies(Xtrain)\n",
    "\n",
    "# # As the data has imbalanced classes, use smote to equalize the classes on training set splitted in operation 5. Use random_state = 25 and sampling_strategy = 1.0 while initializing smote.\n",
    "sm = SMOTE(random_state = 25, sampling_strategy = 0.25)\n",
    "Xtrain, ytrain = sm.fit_sample(Xtrain, ytrain)"
   ]
  },
  {
   "cell_type": "code",
   "execution_count": 147,
   "metadata": {},
   "outputs": [],
   "source": [
    "# To ADD: cross validation split to perform model selection"
   ]
  },
  {
   "cell_type": "code",
   "execution_count": 148,
   "metadata": {},
   "outputs": [],
   "source": [
    "test_data = pd.read_csv('https://raw.githubusercontent.com/dphi-official/Datasets/master/travel_insurance/Testing_set_label.csv')"
   ]
  },
  {
   "cell_type": "code",
   "execution_count": 149,
   "metadata": {
    "scrolled": true
   },
   "outputs": [],
   "source": [
    "test_data.drop(columns=['Distribution Channel', 'Destination','Agency Type'], inplace=True)\n",
    "test_data.fillna('Not Specified', inplace=True)\n",
    "td = pd.get_dummies(test_data)\n",
    "td['Product Name_Travel Cruise Protect Family'] = 0"
   ]
  },
  {
   "cell_type": "code",
   "execution_count": 150,
   "metadata": {},
   "outputs": [
    {
     "data": {
      "text/plain": [
       "Index([], dtype='object')"
      ]
     },
     "execution_count": 150,
     "metadata": {},
     "output_type": "execute_result"
    }
   ],
   "source": [
    "import numpy as np\n",
    "isin = np.isin(Xtrain.columns, td.columns)\n",
    "Xtrain.columns[isin != True]"
   ]
  },
  {
   "cell_type": "code",
   "execution_count": 151,
   "metadata": {},
   "outputs": [
    {
     "data": {
      "text/plain": [
       "RFE(estimator=RandomForestClassifier(max_depth=20, min_samples_leaf=3,\n",
       "                                     min_samples_split=4))"
      ]
     },
     "execution_count": 151,
     "metadata": {},
     "output_type": "execute_result"
    }
   ],
   "source": [
    "# Use RFE and best parameters together\n",
    "rf_params = {'bootstrap': True,\n",
    " 'max_depth': 20,\n",
    " 'min_samples_leaf': 3,\n",
    " 'min_samples_split': 4,\n",
    " 'n_estimators': 100}\n",
    "\n",
    "RF2 = RandomForestClassifier(**rf_params)\n",
    "# estimator = RF2.fit(Xtrain, ytrain)\n",
    "estimator = RFE(RF2, step=1)\n",
    "estimator.fit(Xtrain, ytrain)"
   ]
  },
  {
   "cell_type": "code",
   "execution_count": 152,
   "metadata": {
    "scrolled": true
   },
   "outputs": [
    {
     "data": {
      "text/plain": [
       "0    14442\n",
       "1     1390\n",
       "Name: prediction, dtype: int64"
      ]
     },
     "execution_count": 152,
     "metadata": {},
     "output_type": "execute_result"
    }
   ],
   "source": [
    "results = pd.DataFrame(estimator.predict(td), columns = ['prediction'])\n",
    "pd.value_counts(results['prediction'])"
   ]
  },
  {
   "cell_type": "code",
   "execution_count": 153,
   "metadata": {},
   "outputs": [],
   "source": [
    "train_results = estimator.predict(Xtrain)"
   ]
  },
  {
   "cell_type": "code",
   "execution_count": 154,
   "metadata": {},
   "outputs": [
    {
     "name": "stdout",
     "output_type": "stream",
     "text": [
      "              precision    recall  f1-score   support\n",
      "\n",
      "           0       0.97      0.99      0.98     47552\n",
      "           1       0.97      0.88      0.93     11888\n",
      "\n",
      "    accuracy                           0.97     59440\n",
      "   macro avg       0.97      0.94      0.96     59440\n",
      "weighted avg       0.97      0.97      0.97     59440\n",
      "\n"
     ]
    }
   ],
   "source": [
    "from sklearn.metrics import classification_report\n",
    "print(classification_report(ytrain, train_results))"
   ]
  },
  {
   "cell_type": "code",
   "execution_count": 155,
   "metadata": {},
   "outputs": [
    {
     "data": {
      "text/plain": [
       "0    47552\n",
       "1    11888\n",
       "Name: Claim, dtype: int64"
      ]
     },
     "execution_count": 155,
     "metadata": {},
     "output_type": "execute_result"
    }
   ],
   "source": [
    "ytrain.value_counts()"
   ]
  },
  {
   "cell_type": "code",
   "execution_count": 156,
   "metadata": {},
   "outputs": [],
   "source": [
    "results.to_csv('./results.csv', index=False)"
   ]
  },
  {
   "cell_type": "code",
   "execution_count": null,
   "metadata": {},
   "outputs": [],
   "source": [
    " # Ensemble some models together? \n",
    "    \n",
    "#Fix high rate of False Positives, worsening the F1 score \n",
    "# try cross validation to select model parameters using F1 score as the evaluation metric, not accuracy!"
   ]
  }
 ],
 "metadata": {
  "kernelspec": {
   "display_name": "Python 3",
   "language": "python",
   "name": "python3"
  },
  "language_info": {
   "codemirror_mode": {
    "name": "ipython",
    "version": 3
   },
   "file_extension": ".py",
   "mimetype": "text/x-python",
   "name": "python",
   "nbconvert_exporter": "python",
   "pygments_lexer": "ipython3",
   "version": "3.6.9"
  }
 },
 "nbformat": 4,
 "nbformat_minor": 2
}
